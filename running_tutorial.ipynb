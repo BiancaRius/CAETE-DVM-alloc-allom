{
 "cells": [
  {
   "cell_type": "markdown",
   "metadata": {},
   "source": [
    "**TUTORIAL RUNNING CAETÊ (allometry version)**"
   ]
  },
  {
   "cell_type": "markdown",
   "metadata": {},
   "source": [
    "IMPORTANT: first of all, see the necessary dependecies decribe in the README file"
   ]
  },
  {
   "cell_type": "markdown",
   "metadata": {},
   "source": [
    "1. Running the model\n",
    "    a. Inside your terminal go to the folder src/\n",
    "    "
   ]
  },
  {
   "cell_type": "markdown",
   "metadata": {},
   "source": [
    "``pip install -r requirements.txt``\n"
   ]
  },
  {
   "cell_type": "markdown",
   "metadata": {},
   "source": [
    "b. Run the follow command to clear your python cache and deletes some compiled files\n",
    "\n",
    "  "
   ]
  },
  {
   "cell_type": "markdown",
   "metadata": {},
   "source": [
    "``make clean``"
   ]
  },
  {
   "cell_type": "markdown",
   "metadata": {},
   "source": [
    "c. Compile fortran source and creates a file named with something like `caete_module.so`, the wrapped Fortran functions and subroutines for python.\n"
   ]
  },
  {
   "cell_type": "markdown",
   "metadata": {},
   "source": [
    "                `make so` "
   ]
  },
  {
   "cell_type": "markdown",
   "metadata": {},
   "source": [
    "You will be asked some questions that will determine how the model will run:\n",
    "    \n",
    "                Number of initial random PLS (10 - 3000)\n",
    "\n",
    "After choosing the number of initial PLSs, run:\n"
   ]
  },
  {
   "cell_type": "markdown",
   "metadata": {},
   "source": [
    "`python model_driver.py`"
   ]
  },
  {
   "cell_type": "markdown",
   "metadata": {},
   "source": [
    "Choose the spatial scale: \n",
    "        \n",
    "                TWO MASK OPTIONS: AMAZON BIOME (a); PAN-AMAZON (b) OR PLOT RUN (c)\n",
    "    \n",
    "Choose the model version. \n",
    "\n",
    "-Type 1 for the version using allometric constraints to determine allocation. \n",
    "\n",
    "-Type 2 for the version that considers nutrients cycle and the allocation is determined by fractions of NPP as variant functional traits\n",
    "\n",
    "                Which version? (1: allom/2: nutri_cycle)"
   ]
  },
  {
   "cell_type": "markdown",
   "metadata": {},
   "source": [
    "Inform if you are running in Sombrero server or in your own computer\n",
    "\n",
    "                RUN IN SOMBRERO(y/n)"
   ]
  },
  {
   "cell_type": "markdown",
   "metadata": {},
   "source": [
    "Nominate the folder for your outputs (ATTENTION: make sure the name have no spaces)\n",
    "\n",
    "            Give a name to your run (ASCII letters and numbers only. No spaces)"
   ]
  },
  {
   "cell_type": "markdown",
   "metadata": {},
   "source": [
    "If you previously chose Running the plot spatial scale, you can choose the specific region you want to simulate:\n",
    "                \n",
    "                Select a zone [c: central, s: south, e: east, nw: NW]\n",
    "\n",
    "**NOTE**: You can change the grid cells to be simulated in the file model_driver.py between the lines 151 and 169"
   ]
  },
  {
   "cell_type": "markdown",
   "metadata": {},
   "source": [
    "The model will be run from 1979 to 2010. You can change this period in the file caete.py"
   ]
  },
  {
   "cell_type": "markdown",
   "metadata": {},
   "source": [
    "2. There are some post process that you need to do in order to get the functional traits and occupation of the alive PLSs. Also in the outputs folder first run the file pktocsv_allspins.py, after run the file select_living_PLSs.py"
   ]
  },
  {
   "cell_type": "markdown",
   "metadata": {},
   "source": [
    "3. Now you are able to visualize the data. \n",
    "\n",
    "\n",
    "a. For the biogeochemical variables: \n",
    "\n",
    "In the folder outputs/ you will find the files: open_spin.py and open_spin_dates.py. The 1st one will open an specific spin (specific period of time) and the 2nd will open the variables for the whole time period."
   ]
  }
 ],
 "metadata": {
  "kernelspec": {
   "display_name": "Python 3",
   "language": "python",
   "name": "python3"
  },
  "language_info": {
   "codemirror_mode": {
    "name": "ipython",
    "version": 3
   },
   "file_extension": ".py",
   "mimetype": "text/x-python",
   "name": "python",
   "nbconvert_exporter": "python",
   "pygments_lexer": "ipython3",
   "version": "3.8.10"
  }
 },
 "nbformat": 4,
 "nbformat_minor": 2
}
